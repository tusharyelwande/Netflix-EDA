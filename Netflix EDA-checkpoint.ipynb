{
 "cells": [
  {
   "cell_type": "markdown",
   "id": "af164a38",
   "metadata": {},
   "source": [
    "# NETFLIX MOVIES AND TV SHOWS EDA 📊 "
   ]
  },
  {
   "cell_type": "markdown",
   "id": "44161d41",
   "metadata": {},
   "source": [
    "## About data set :\n"
   ]
  },
  {
   "cell_type": "markdown",
   "id": "84acebea",
   "metadata": {},
   "source": [
    "This dataset is taken from kaggle.\n",
    "\n",
    "Netflix is one of the most popular media and video streaming platforms.\n",
    "\n",
    "Netflix is an application that keeps growing bigger and faster with its popularity, shows and content. \n",
    "\n",
    "This is an EDA or a story telling through its data along with a content-based recommendation system and a wide range of different graphs and visuals.\n",
    "\n",
    "Netfilx has proven to be a great source of entertainment"
   ]
  },
  {
   "cell_type": "markdown",
   "id": "d5a601fe",
   "metadata": {},
   "source": [
    "# Problem Statement :"
   ]
  },
  {
   "cell_type": "markdown",
   "id": "fa56521f",
   "metadata": {},
   "source": [
    "- Understanding what content is available in different countries\n",
    "- Identifying similar content by matching text-based features\n",
    "- when did netflix demand starting increase ? n why ?\n",
    "- which are best TV show n movies according to IMDB score \n",
    "- Is Netflix has increasingly focusing on TV rather than movies in recent years."
   ]
  },
  {
   "cell_type": "markdown",
   "id": "58756f65",
   "metadata": {},
   "source": [
    "### Import libraries & dataset ."
   ]
  },
  {
   "cell_type": "code",
   "execution_count": 1,
   "id": "f93c1736",
   "metadata": {},
   "outputs": [],
   "source": [
    "import numpy as np\n",
    "import pandas as pd\n",
    "import matplotlib.pyplot as plt\n",
    "import seaborn as sns"
   ]
  },
  {
   "cell_type": "markdown",
   "id": "63356279",
   "metadata": {},
   "source": [
    "### Read dataset ."
   ]
  },
  {
   "cell_type": "code",
   "execution_count": 2,
   "id": "5a3d9fde",
   "metadata": {},
   "outputs": [],
   "source": [
    "df=pd.read_csv(r\"C:\\Users\\tushar\\Downloads\\project eda\\titles.csv\")"
   ]
  },
  {
   "cell_type": "code",
   "execution_count": 3,
   "id": "dbf79cdc",
   "metadata": {},
   "outputs": [
    {
     "data": {
      "text/html": [
       "<div>\n",
       "<style scoped>\n",
       "    .dataframe tbody tr th:only-of-type {\n",
       "        vertical-align: middle;\n",
       "    }\n",
       "\n",
       "    .dataframe tbody tr th {\n",
       "        vertical-align: top;\n",
       "    }\n",
       "\n",
       "    .dataframe thead th {\n",
       "        text-align: right;\n",
       "    }\n",
       "</style>\n",
       "<table border=\"1\" class=\"dataframe\">\n",
       "  <thead>\n",
       "    <tr style=\"text-align: right;\">\n",
       "      <th></th>\n",
       "      <th>id</th>\n",
       "      <th>title</th>\n",
       "      <th>type</th>\n",
       "      <th>description</th>\n",
       "      <th>release_year</th>\n",
       "      <th>age_certification</th>\n",
       "      <th>runtime</th>\n",
       "      <th>genres</th>\n",
       "      <th>production_countries</th>\n",
       "      <th>seasons</th>\n",
       "      <th>imdb_id</th>\n",
       "      <th>imdb_score</th>\n",
       "      <th>imdb_votes</th>\n",
       "      <th>tmdb_popularity</th>\n",
       "      <th>tmdb_score</th>\n",
       "    </tr>\n",
       "  </thead>\n",
       "  <tbody>\n",
       "    <tr>\n",
       "      <th>0</th>\n",
       "      <td>ts300399</td>\n",
       "      <td>Five Came Back: The Reference Films</td>\n",
       "      <td>SHOW</td>\n",
       "      <td>This collection includes 12 World War II-era p...</td>\n",
       "      <td>1945</td>\n",
       "      <td>TV-MA</td>\n",
       "      <td>51</td>\n",
       "      <td>['documentation']</td>\n",
       "      <td>['US']</td>\n",
       "      <td>1.0</td>\n",
       "      <td>NaN</td>\n",
       "      <td>NaN</td>\n",
       "      <td>NaN</td>\n",
       "      <td>0.600</td>\n",
       "      <td>NaN</td>\n",
       "    </tr>\n",
       "    <tr>\n",
       "      <th>1</th>\n",
       "      <td>tm84618</td>\n",
       "      <td>Taxi Driver</td>\n",
       "      <td>MOVIE</td>\n",
       "      <td>A mentally unstable Vietnam War veteran works ...</td>\n",
       "      <td>1976</td>\n",
       "      <td>R</td>\n",
       "      <td>114</td>\n",
       "      <td>['drama', 'crime']</td>\n",
       "      <td>['US']</td>\n",
       "      <td>NaN</td>\n",
       "      <td>tt0075314</td>\n",
       "      <td>8.2</td>\n",
       "      <td>808582.0</td>\n",
       "      <td>40.965</td>\n",
       "      <td>8.179</td>\n",
       "    </tr>\n",
       "    <tr>\n",
       "      <th>2</th>\n",
       "      <td>tm154986</td>\n",
       "      <td>Deliverance</td>\n",
       "      <td>MOVIE</td>\n",
       "      <td>Intent on seeing the Cahulawassee River before...</td>\n",
       "      <td>1972</td>\n",
       "      <td>R</td>\n",
       "      <td>109</td>\n",
       "      <td>['drama', 'action', 'thriller', 'european']</td>\n",
       "      <td>['US']</td>\n",
       "      <td>NaN</td>\n",
       "      <td>tt0068473</td>\n",
       "      <td>7.7</td>\n",
       "      <td>107673.0</td>\n",
       "      <td>10.010</td>\n",
       "      <td>7.300</td>\n",
       "    </tr>\n",
       "    <tr>\n",
       "      <th>3</th>\n",
       "      <td>tm127384</td>\n",
       "      <td>Monty Python and the Holy Grail</td>\n",
       "      <td>MOVIE</td>\n",
       "      <td>King Arthur, accompanied by his squire, recrui...</td>\n",
       "      <td>1975</td>\n",
       "      <td>PG</td>\n",
       "      <td>91</td>\n",
       "      <td>['fantasy', 'action', 'comedy']</td>\n",
       "      <td>['GB']</td>\n",
       "      <td>NaN</td>\n",
       "      <td>tt0071853</td>\n",
       "      <td>8.2</td>\n",
       "      <td>534486.0</td>\n",
       "      <td>15.461</td>\n",
       "      <td>7.811</td>\n",
       "    </tr>\n",
       "    <tr>\n",
       "      <th>4</th>\n",
       "      <td>tm120801</td>\n",
       "      <td>The Dirty Dozen</td>\n",
       "      <td>MOVIE</td>\n",
       "      <td>12 American military prisoners in World War II...</td>\n",
       "      <td>1967</td>\n",
       "      <td>NaN</td>\n",
       "      <td>150</td>\n",
       "      <td>['war', 'action']</td>\n",
       "      <td>['GB', 'US']</td>\n",
       "      <td>NaN</td>\n",
       "      <td>tt0061578</td>\n",
       "      <td>7.7</td>\n",
       "      <td>72662.0</td>\n",
       "      <td>20.398</td>\n",
       "      <td>7.600</td>\n",
       "    </tr>\n",
       "  </tbody>\n",
       "</table>\n",
       "</div>"
      ],
      "text/plain": [
       "         id                                title   type  \\\n",
       "0  ts300399  Five Came Back: The Reference Films   SHOW   \n",
       "1   tm84618                          Taxi Driver  MOVIE   \n",
       "2  tm154986                          Deliverance  MOVIE   \n",
       "3  tm127384      Monty Python and the Holy Grail  MOVIE   \n",
       "4  tm120801                      The Dirty Dozen  MOVIE   \n",
       "\n",
       "                                         description  release_year  \\\n",
       "0  This collection includes 12 World War II-era p...          1945   \n",
       "1  A mentally unstable Vietnam War veteran works ...          1976   \n",
       "2  Intent on seeing the Cahulawassee River before...          1972   \n",
       "3  King Arthur, accompanied by his squire, recrui...          1975   \n",
       "4  12 American military prisoners in World War II...          1967   \n",
       "\n",
       "  age_certification  runtime                                       genres  \\\n",
       "0             TV-MA       51                            ['documentation']   \n",
       "1                 R      114                           ['drama', 'crime']   \n",
       "2                 R      109  ['drama', 'action', 'thriller', 'european']   \n",
       "3                PG       91              ['fantasy', 'action', 'comedy']   \n",
       "4               NaN      150                            ['war', 'action']   \n",
       "\n",
       "  production_countries  seasons    imdb_id  imdb_score  imdb_votes  \\\n",
       "0               ['US']      1.0        NaN         NaN         NaN   \n",
       "1               ['US']      NaN  tt0075314         8.2    808582.0   \n",
       "2               ['US']      NaN  tt0068473         7.7    107673.0   \n",
       "3               ['GB']      NaN  tt0071853         8.2    534486.0   \n",
       "4         ['GB', 'US']      NaN  tt0061578         7.7     72662.0   \n",
       "\n",
       "   tmdb_popularity  tmdb_score  \n",
       "0            0.600         NaN  \n",
       "1           40.965       8.179  \n",
       "2           10.010       7.300  \n",
       "3           15.461       7.811  \n",
       "4           20.398       7.600  "
      ]
     },
     "execution_count": 3,
     "metadata": {},
     "output_type": "execute_result"
    }
   ],
   "source": [
    "df.head(5)"
   ]
  },
  {
   "cell_type": "markdown",
   "id": "bc323c6d",
   "metadata": {},
   "source": [
    "The dataset has information about netflix since 1940-2020 \n",
    "Dataset contain 2 type of program i.e is movie and Tv show\n",
    "It also contain release year , genre , imdb score which are imp for analysis"
   ]
  },
  {
   "cell_type": "markdown",
   "id": "9b26a2f4",
   "metadata": {},
   "source": [
    "### Insights of dataset ."
   ]
  },
  {
   "cell_type": "markdown",
   "id": "6848e139",
   "metadata": {},
   "source": [
    "This dataset contains +5k unique titles on Netflix with 15 columns containing their information, including:\n",
    "\n",
    "id: The title ID on JustWatch.\n",
    "\n",
    "title: The name of the title.\n",
    "\n",
    "show_type: TV show or movie.\n",
    "\n",
    "description: A brief description.\n",
    "\n",
    "release_year: The release year.\n",
    "\n",
    "age_certification: The age certification.\n",
    "\n",
    "runtime: The length of the episode (SHOW) or movie.\n",
    "\n",
    "genres: A list of genres.\n",
    "\n",
    "production_countries: A list of countries that produced the title.\n",
    "\n",
    "seasons: Number of seasons if it's a SHOW.\n",
    "\n",
    "imdb_id: The title ID on IMDB. (Internet Movie Database)\n",
    "\n",
    "imdb_score: Score on IMDB.\n",
    "\n",
    "imdb_votes: Votes on IMDB.\n",
    "\n",
    "tmdb_popularity: Popularity on TMDB.\n",
    "\n",
    "tmdb_score: Score on TMDB.\n",
    "\n",
    "person_ID: The person ID on JustWatch.\n",
    "\n",
    "id: The title ID on JustWatch.\n",
    "\n",
    "name: The actor or director's name.\n",
    "\n",
    "character_name: The character name.\n",
    "\n",
    "role: ACTOR or DIRECTOR."
   ]
  },
  {
   "cell_type": "code",
   "execution_count": 4,
   "id": "b2fa9b65",
   "metadata": {},
   "outputs": [
    {
     "data": {
      "text/plain": [
       "87750"
      ]
     },
     "execution_count": 4,
     "metadata": {},
     "output_type": "execute_result"
    }
   ],
   "source": [
    "df.size"
   ]
  },
  {
   "cell_type": "code",
   "execution_count": 5,
   "id": "960d4abd",
   "metadata": {},
   "outputs": [
    {
     "data": {
      "text/plain": [
       "(5850, 15)"
      ]
     },
     "execution_count": 5,
     "metadata": {},
     "output_type": "execute_result"
    }
   ],
   "source": [
    "df.shape"
   ]
  },
  {
   "cell_type": "code",
   "execution_count": 6,
   "id": "31ccfdd0",
   "metadata": {},
   "outputs": [
    {
     "data": {
      "text/plain": [
       "2"
      ]
     },
     "execution_count": 6,
     "metadata": {},
     "output_type": "execute_result"
    }
   ],
   "source": [
    "df.ndim"
   ]
  },
  {
   "cell_type": "code",
   "execution_count": 7,
   "id": "7a81d162",
   "metadata": {},
   "outputs": [
    {
     "data": {
      "text/plain": [
       "id                      5850\n",
       "title                   5798\n",
       "type                       2\n",
       "description             5829\n",
       "release_year              63\n",
       "age_certification         11\n",
       "runtime                  202\n",
       "genres                  1726\n",
       "production_countries     452\n",
       "seasons                   26\n",
       "imdb_id                 5447\n",
       "imdb_score                80\n",
       "imdb_votes              3880\n",
       "tmdb_popularity         4889\n",
       "tmdb_score               394\n",
       "dtype: int64"
      ]
     },
     "execution_count": 7,
     "metadata": {},
     "output_type": "execute_result"
    }
   ],
   "source": [
    "df.nunique()"
   ]
  },
  {
   "cell_type": "code",
   "execution_count": 8,
   "id": "9e473953",
   "metadata": {},
   "outputs": [
    {
     "name": "stdout",
     "output_type": "stream",
     "text": [
      "<class 'pandas.core.frame.DataFrame'>\n",
      "RangeIndex: 5850 entries, 0 to 5849\n",
      "Data columns (total 15 columns):\n",
      " #   Column                Non-Null Count  Dtype  \n",
      "---  ------                --------------  -----  \n",
      " 0   id                    5850 non-null   object \n",
      " 1   title                 5849 non-null   object \n",
      " 2   type                  5850 non-null   object \n",
      " 3   description           5832 non-null   object \n",
      " 4   release_year          5850 non-null   int64  \n",
      " 5   age_certification     3231 non-null   object \n",
      " 6   runtime               5850 non-null   int64  \n",
      " 7   genres                5850 non-null   object \n",
      " 8   production_countries  5850 non-null   object \n",
      " 9   seasons               2106 non-null   float64\n",
      " 10  imdb_id               5447 non-null   object \n",
      " 11  imdb_score            5368 non-null   float64\n",
      " 12  imdb_votes            5352 non-null   float64\n",
      " 13  tmdb_popularity       5759 non-null   float64\n",
      " 14  tmdb_score            5539 non-null   float64\n",
      "dtypes: float64(5), int64(2), object(8)\n",
      "memory usage: 685.7+ KB\n"
     ]
    }
   ],
   "source": [
    "df.info()"
   ]
  },
  {
   "cell_type": "code",
   "execution_count": 9,
   "id": "862e7193",
   "metadata": {},
   "outputs": [
    {
     "data": {
      "text/html": [
       "<div>\n",
       "<style scoped>\n",
       "    .dataframe tbody tr th:only-of-type {\n",
       "        vertical-align: middle;\n",
       "    }\n",
       "\n",
       "    .dataframe tbody tr th {\n",
       "        vertical-align: top;\n",
       "    }\n",
       "\n",
       "    .dataframe thead th {\n",
       "        text-align: right;\n",
       "    }\n",
       "</style>\n",
       "<table border=\"1\" class=\"dataframe\">\n",
       "  <thead>\n",
       "    <tr style=\"text-align: right;\">\n",
       "      <th></th>\n",
       "      <th>release_year</th>\n",
       "      <th>runtime</th>\n",
       "      <th>seasons</th>\n",
       "      <th>imdb_score</th>\n",
       "      <th>imdb_votes</th>\n",
       "      <th>tmdb_popularity</th>\n",
       "      <th>tmdb_score</th>\n",
       "    </tr>\n",
       "  </thead>\n",
       "  <tbody>\n",
       "    <tr>\n",
       "      <th>count</th>\n",
       "      <td>5850.000000</td>\n",
       "      <td>5850.000000</td>\n",
       "      <td>2106.000000</td>\n",
       "      <td>5368.000000</td>\n",
       "      <td>5.352000e+03</td>\n",
       "      <td>5759.000000</td>\n",
       "      <td>5539.000000</td>\n",
       "    </tr>\n",
       "    <tr>\n",
       "      <th>mean</th>\n",
       "      <td>2016.417094</td>\n",
       "      <td>76.888889</td>\n",
       "      <td>2.162868</td>\n",
       "      <td>6.510861</td>\n",
       "      <td>2.343938e+04</td>\n",
       "      <td>22.637925</td>\n",
       "      <td>6.829175</td>\n",
       "    </tr>\n",
       "    <tr>\n",
       "      <th>std</th>\n",
       "      <td>6.937726</td>\n",
       "      <td>39.002509</td>\n",
       "      <td>2.689041</td>\n",
       "      <td>1.163826</td>\n",
       "      <td>9.582047e+04</td>\n",
       "      <td>81.680263</td>\n",
       "      <td>1.170391</td>\n",
       "    </tr>\n",
       "    <tr>\n",
       "      <th>min</th>\n",
       "      <td>1945.000000</td>\n",
       "      <td>0.000000</td>\n",
       "      <td>1.000000</td>\n",
       "      <td>1.500000</td>\n",
       "      <td>5.000000e+00</td>\n",
       "      <td>0.009442</td>\n",
       "      <td>0.500000</td>\n",
       "    </tr>\n",
       "    <tr>\n",
       "      <th>25%</th>\n",
       "      <td>2016.000000</td>\n",
       "      <td>44.000000</td>\n",
       "      <td>1.000000</td>\n",
       "      <td>5.800000</td>\n",
       "      <td>5.167500e+02</td>\n",
       "      <td>2.728500</td>\n",
       "      <td>6.100000</td>\n",
       "    </tr>\n",
       "    <tr>\n",
       "      <th>50%</th>\n",
       "      <td>2018.000000</td>\n",
       "      <td>83.000000</td>\n",
       "      <td>1.000000</td>\n",
       "      <td>6.600000</td>\n",
       "      <td>2.233500e+03</td>\n",
       "      <td>6.821000</td>\n",
       "      <td>6.900000</td>\n",
       "    </tr>\n",
       "    <tr>\n",
       "      <th>75%</th>\n",
       "      <td>2020.000000</td>\n",
       "      <td>104.000000</td>\n",
       "      <td>2.000000</td>\n",
       "      <td>7.300000</td>\n",
       "      <td>9.494000e+03</td>\n",
       "      <td>16.590000</td>\n",
       "      <td>7.537500</td>\n",
       "    </tr>\n",
       "    <tr>\n",
       "      <th>max</th>\n",
       "      <td>2022.000000</td>\n",
       "      <td>240.000000</td>\n",
       "      <td>42.000000</td>\n",
       "      <td>9.600000</td>\n",
       "      <td>2.294231e+06</td>\n",
       "      <td>2274.044000</td>\n",
       "      <td>10.000000</td>\n",
       "    </tr>\n",
       "  </tbody>\n",
       "</table>\n",
       "</div>"
      ],
      "text/plain": [
       "       release_year      runtime      seasons   imdb_score    imdb_votes  \\\n",
       "count   5850.000000  5850.000000  2106.000000  5368.000000  5.352000e+03   \n",
       "mean    2016.417094    76.888889     2.162868     6.510861  2.343938e+04   \n",
       "std        6.937726    39.002509     2.689041     1.163826  9.582047e+04   \n",
       "min     1945.000000     0.000000     1.000000     1.500000  5.000000e+00   \n",
       "25%     2016.000000    44.000000     1.000000     5.800000  5.167500e+02   \n",
       "50%     2018.000000    83.000000     1.000000     6.600000  2.233500e+03   \n",
       "75%     2020.000000   104.000000     2.000000     7.300000  9.494000e+03   \n",
       "max     2022.000000   240.000000    42.000000     9.600000  2.294231e+06   \n",
       "\n",
       "       tmdb_popularity   tmdb_score  \n",
       "count      5759.000000  5539.000000  \n",
       "mean         22.637925     6.829175  \n",
       "std          81.680263     1.170391  \n",
       "min           0.009442     0.500000  \n",
       "25%           2.728500     6.100000  \n",
       "50%           6.821000     6.900000  \n",
       "75%          16.590000     7.537500  \n",
       "max        2274.044000    10.000000  "
      ]
     },
     "execution_count": 9,
     "metadata": {},
     "output_type": "execute_result"
    }
   ],
   "source": [
    "df.describe()"
   ]
  },
  {
   "cell_type": "markdown",
   "id": "67d0d9d8",
   "metadata": {},
   "source": [
    "Imdb score has low of 1.5 and high score of 9.6 \n",
    "\n",
    "As max number of seasons are 42\n",
    "\n",
    "Release year is from 1945 to 2022\n",
    "\n",
    "Longest run time is 240 min's"
   ]
  },
  {
   "cell_type": "code",
   "execution_count": 10,
   "id": "9875e885",
   "metadata": {
    "scrolled": true
   },
   "outputs": [
    {
     "data": {
      "text/plain": [
       "id                         0\n",
       "title                      1\n",
       "type                       0\n",
       "description               18\n",
       "release_year               0\n",
       "age_certification       2619\n",
       "runtime                    0\n",
       "genres                     0\n",
       "production_countries       0\n",
       "seasons                 3744\n",
       "imdb_id                  403\n",
       "imdb_score               482\n",
       "imdb_votes               498\n",
       "tmdb_popularity           91\n",
       "tmdb_score               311\n",
       "dtype: int64"
      ]
     },
     "execution_count": 10,
     "metadata": {},
     "output_type": "execute_result"
    }
   ],
   "source": [
    "df.isnull().sum()"
   ]
  },
  {
   "cell_type": "markdown",
   "id": "e2d7815c",
   "metadata": {},
   "source": [
    "There are total 15 columns.\n",
    "\n",
    "In that 2 are integer columns, 5 are floatting value columns and 8 are categorical columns.\n",
    "\n",
    "There is missing data in columns such as seasons and age certificate and much more"
   ]
  },
  {
   "cell_type": "markdown",
   "id": "56f77f06",
   "metadata": {},
   "source": [
    "## Preprocessing"
   ]
  },
  {
   "cell_type": "markdown",
   "id": "c89e30b7",
   "metadata": {},
   "source": [
    "### filling missing values with mean n mode"
   ]
  },
  {
   "cell_type": "code",
   "execution_count": 11,
   "id": "af99eae2",
   "metadata": {},
   "outputs": [],
   "source": [
    "df[\"age_certification\"]=df[\"age_certification\"].fillna(df[\"age_certification\"].mode()[0])"
   ]
  },
  {
   "cell_type": "code",
   "execution_count": 12,
   "id": "401b1657",
   "metadata": {},
   "outputs": [],
   "source": [
    "df[\"seasons\"]=df[\"seasons\"].fillna(df[\"seasons\"].mode()[0])"
   ]
  },
  {
   "cell_type": "code",
   "execution_count": 13,
   "id": "911baebe",
   "metadata": {},
   "outputs": [],
   "source": [
    "df['imdb_score'] = df['imdb_score'].fillna(df['imdb_score'].mean())"
   ]
  },
  {
   "cell_type": "code",
   "execution_count": 14,
   "id": "3bdbb848",
   "metadata": {},
   "outputs": [],
   "source": [
    "df['imdb_votes'] = df['imdb_votes'].fillna(df['imdb_votes'].mean())"
   ]
  },
  {
   "cell_type": "code",
   "execution_count": 15,
   "id": "356a577a",
   "metadata": {},
   "outputs": [],
   "source": [
    "df['tmdb_score'] = df['tmdb_score'].fillna(df['tmdb_score'].mean())"
   ]
  },
  {
   "cell_type": "code",
   "execution_count": 16,
   "id": "c27d697f",
   "metadata": {},
   "outputs": [],
   "source": [
    "df['imdb_id'] = df['imdb_id'].fillna(df['imdb_id'].mode()[0])"
   ]
  },
  {
   "cell_type": "markdown",
   "id": "fedf6ec3",
   "metadata": {},
   "source": [
    "### Deleting  column since it is not useful.\n"
   ]
  },
  {
   "cell_type": "code",
   "execution_count": 17,
   "id": "65ae8f3e",
   "metadata": {},
   "outputs": [],
   "source": [
    "a=df.drop(['tmdb_popularity'],axis=1)"
   ]
  },
  {
   "cell_type": "code",
   "execution_count": 18,
   "id": "e64c6d6a",
   "metadata": {},
   "outputs": [
    {
     "data": {
      "text/plain": [
       "id                       0\n",
       "title                    1\n",
       "type                     0\n",
       "description             18\n",
       "release_year             0\n",
       "age_certification        0\n",
       "runtime                  0\n",
       "genres                   0\n",
       "production_countries     0\n",
       "seasons                  0\n",
       "imdb_id                  0\n",
       "imdb_score               0\n",
       "imdb_votes               0\n",
       "tmdb_score               0\n",
       "dtype: int64"
      ]
     },
     "execution_count": 18,
     "metadata": {},
     "output_type": "execute_result"
    }
   ],
   "source": [
    "a.isnull().sum()"
   ]
  },
  {
   "cell_type": "code",
   "execution_count": 19,
   "id": "a500fae2",
   "metadata": {},
   "outputs": [
    {
     "data": {
      "text/plain": [
       "0"
      ]
     },
     "execution_count": 19,
     "metadata": {},
     "output_type": "execute_result"
    }
   ],
   "source": [
    "df.duplicated().sum()"
   ]
  },
  {
   "cell_type": "code",
   "execution_count": 20,
   "id": "c07ea9b4",
   "metadata": {},
   "outputs": [
    {
     "data": {
      "text/plain": [
       "Index(['id', 'title', 'type', 'description', 'release_year',\n",
       "       'age_certification', 'runtime', 'genres', 'production_countries',\n",
       "       'seasons', 'imdb_id', 'imdb_score', 'imdb_votes', 'tmdb_popularity',\n",
       "       'tmdb_score'],\n",
       "      dtype='object')"
      ]
     },
     "execution_count": 20,
     "metadata": {},
     "output_type": "execute_result"
    }
   ],
   "source": [
    "df.columns"
   ]
  },
  {
   "cell_type": "markdown",
   "id": "d8cf9207",
   "metadata": {},
   "source": [
    "# Exploratory Analysis & Visualizations(EDA)"
   ]
  },
  {
   "cell_type": "markdown",
   "id": "3148a54e",
   "metadata": {},
   "source": [
    "### Insight : Analysis of Movies vs TV Shows"
   ]
  },
  {
   "cell_type": "code",
   "execution_count": 21,
   "id": "41bf5623",
   "metadata": {
    "scrolled": false
   },
   "outputs": [
    {
     "data": {
      "text/plain": [
       "Text(0, 0.5, 'Count')"
      ]
     },
     "execution_count": 21,
     "metadata": {},
     "output_type": "execute_result"
    },
    {
     "data": {
      "image/png": "[encoded data removed]",
      "text/plain": [
       "<Figure size 720x576 with 1 Axes>"
      ]
     },
     "metadata": {
      "needs_background": "light"
     },
     "output_type": "display_data"
    }
   ],
   "source": [
    "plt.figure(figsize=(10,8))\n",
    "sns.countplot(x=df['type'])\n",
    "plt.xlabel('Type', weight='bold',fontsize=20)\n",
    "plt.ylabel('Count', weight='bold',fontsize=20)"
   ]
  },
  {
   "cell_type": "raw",
   "id": "f5b30c9c",
   "metadata": {},
   "source": [
    "Observations :\n",
    "\n",
    "We can see in graph their are more Movies than Tv show\n",
    "\n",
    "The count for Tv shows is 2100 shows \n",
    "\n",
    "And the count for movies is 3700 "
   ]
  },
  {
   "cell_type": "code",
   "execution_count": 22,
   "id": "6cdc764b",
   "metadata": {},
   "outputs": [
    {
     "data": {
      "text/plain": [
       "['US']                            1959\n",
       "['IN']                             599\n",
       "['JP']                             264\n",
       "[]                                 229\n",
       "['KR']                             222\n",
       "                                  ... \n",
       "['CA', 'FR', 'JP', 'GB', 'US']       1\n",
       "['HR']                               1\n",
       "['IR', 'US', 'FR']                   1\n",
       "['BE', 'LU']                         1\n",
       "['KG']                               1\n",
       "Name: production_countries, Length: 452, dtype: int64"
      ]
     },
     "execution_count": 22,
     "metadata": {},
     "output_type": "execute_result"
    }
   ],
   "source": [
    "df.production_countries.value_counts()"
   ]
  },
  {
   "cell_type": "code",
   "execution_count": 23,
   "id": "26f49c25",
   "metadata": {},
   "outputs": [
    {
     "data": {
      "text/plain": [
       "['US']                            1959\n",
       "['IN']                             599\n",
       "['JP']                             264\n",
       "[]                                 229\n",
       "['KR']                             222\n",
       "                                  ... \n",
       "['CA', 'FR', 'JP', 'GB', 'US']       1\n",
       "['HR']                               1\n",
       "['IR', 'US', 'FR']                   1\n",
       "['BE', 'LU']                         1\n",
       "['KG']                               1\n",
       "Name: production_countries, Length: 452, dtype: int64"
      ]
     },
     "execution_count": 23,
     "metadata": {},
     "output_type": "execute_result"
    }
   ],
   "source": [
    "country=df.production_countries.value_counts()\n",
    "country"
   ]
  },
  {
   "cell_type": "code",
   "execution_count": 24,
   "id": "ed37cef6",
   "metadata": {},
   "outputs": [
    {
     "data": {
      "text/plain": [
       "['US']    1959\n",
       "['IN']     599\n",
       "['JP']     264\n",
       "[]         229\n",
       "['KR']     222\n",
       "['GB']     218\n",
       "['ES']     161\n",
       "['FR']     125\n",
       "['CA']     107\n",
       "['MX']      98\n",
       "Name: production_countries, dtype: int64"
      ]
     },
     "execution_count": 24,
     "metadata": {},
     "output_type": "execute_result"
    }
   ],
   "source": [
    "country.head(10)"
   ]
  },
  {
   "cell_type": "markdown",
   "id": "0606ef3a",
   "metadata": {},
   "source": [
    "### TOP 7 MOVIE CONTENT CREATING COUNTRIES"
   ]
  },
  {
   "cell_type": "code",
   "execution_count": null,
   "id": "41e2acad",
   "metadata": {},
   "outputs": [],
   "source": []
  },
  {
   "cell_type": "code",
   "execution_count": 25,
   "id": "fe0e7235",
   "metadata": {},
   "outputs": [
    {
     "data": {
      "text/plain": [
       "<matplotlib.legend.Legend at 0x76de806f40>"
      ]
     },
     "execution_count": 25,
     "metadata": {},
     "output_type": "execute_result"
    },
    {
     "data": {
      "image/png": "[encoded data removed]",
      "text/plain": [
       "<Figure size 648x648 with 1 Axes>"
      ]
     },
     "metadata": {},
     "output_type": "display_data"
    }
   ],
   "source": [
    "y = np.array([1959,599,264,222,229,218,161])\n",
    "labels = [\"US\",\"IN\",\"JP\",\"\",\"KR\",\"GB\",\"ES\"]\n",
    "plt.figure(figsize=(9,9))\n",
    "plt.pie(y,labels=labels,autopct=\"%1.1f%%\")\n",
    "plt.axis('equal')\n",
    "plt.title(\"CONTENT CREATING COUNTRIES\",fontsize=20)\n",
    "plt.legend()"
   ]
  },
  {
   "cell_type": "markdown",
   "id": "edf51f84",
   "metadata": {},
   "source": [
    "US and IN has most content creating countries\n",
    "\n",
    "More than 50% of content is contributed by US \n",
    "\n",
    "less than 5% of  content is done by ES(spain)"
   ]
  },
  {
   "cell_type": "code",
   "execution_count": 26,
   "id": "e1e72366",
   "metadata": {},
   "outputs": [
    {
     "data": {
      "text/plain": [
       "TV-MA    3502\n",
       "R         556\n",
       "TV-14     474\n",
       "PG-13     451\n",
       "PG        233\n",
       "TV-PG     188\n",
       "G         124\n",
       "TV-Y7     120\n",
       "TV-Y      107\n",
       "TV-G       79\n",
       "NC-17      16\n",
       "Name: age_certification, dtype: int64"
      ]
     },
     "execution_count": 26,
     "metadata": {},
     "output_type": "execute_result"
    }
   ],
   "source": [
    "age = df.age_certification.value_counts()\n",
    "age"
   ]
  },
  {
   "cell_type": "markdown",
   "id": "64fb85b7",
   "metadata": {},
   "source": [
    "### Age group by Abbrevation"
   ]
  },
  {
   "cell_type": "code",
   "execution_count": 27,
   "id": "6e78ed27",
   "metadata": {},
   "outputs": [
    {
     "data": {
      "text/plain": [
       "Text(0, 0.5, 'No. of Content ')"
      ]
     },
     "execution_count": 27,
     "metadata": {},
     "output_type": "execute_result"
    },
    {
     "data": {
      "image/png": "[encoded data removed]",
      "text/plain": [
       "<Figure size 864x576 with 1 Axes>"
      ]
     },
     "metadata": {
      "needs_background": "light"
     },
     "output_type": "display_data"
    }
   ],
   "source": [
    "plt.figure(figsize=(12,8))\n",
    "df.age_certification.value_counts().plot(kind='bar')\n",
    "plt.xlabel(\"Age Certificate\",fontsize=15)\n",
    "plt.ylabel(\"No. of Content \",fontsize=15)"
   ]
  },
  {
   "cell_type": "markdown",
   "id": "b3bf39fe",
   "metadata": {},
   "source": [
    " As we can see in graph their are more than 3000 not suitable for childrens\n",
    " \n",
    " TV-MA:This program is specifically designed to be viewed by adults and therefore may be unsuitable for children under 17\n",
    "\n",
    " TV-14:This program contains some material that many parents would find unsuitable for children under 14 years of age\n",
    " \n",
    " R:Under 17 requires accompanying parent or adult guardian,Parents are urged to learn more about the film before taking\n",
    " their young children with them..\n"
   ]
  },
  {
   "cell_type": "markdown",
   "id": "bf4a3557",
   "metadata": {},
   "source": [
    "# Year wise analysis¶"
   ]
  },
  {
   "cell_type": "code",
   "execution_count": 28,
   "id": "2bc2d2fb",
   "metadata": {},
   "outputs": [
    {
     "data": {
      "text/plain": [
       "Text(0, 0.5, 'Release Year ')"
      ]
     },
     "execution_count": 28,
     "metadata": {},
     "output_type": "execute_result"
    },
    {
     "data": {
      "image/png": "[encoded data removed]",
      "text/plain": [
       "<Figure size 864x720 with 1 Axes>"
      ]
     },
     "metadata": {
      "needs_background": "light"
     },
     "output_type": "display_data"
    }
   ],
   "source": [
    "plt.figure(figsize=(12,10))\n",
    "sns.set(style=\"darkgrid\")\n",
    "ax = sns.countplot(y=\"release_year\", data=df, palette=\"Set2\", order=df['release_year'].value_counts().index[0:15])\n",
    "plt.title('Year wise analysis',fontsize=20)\n",
    "plt.xlabel(\"Count\",fontsize=15)\n",
    "plt.ylabel(\"Release Year \",fontsize=15)"
   ]
  },
  {
   "cell_type": "markdown",
   "id": "8298668f",
   "metadata": {},
   "source": [
    "So, 2019 was the year when most of the movies,show were released.\n",
    "\n",
    "count for it was more than 800\n",
    "\n",
    "As in 2022 the count for content is 380 only\n",
    "\n",
    "Lowest count of content was in 2009"
   ]
  },
  {
   "cell_type": "markdown",
   "id": "218ea9ec",
   "metadata": {},
   "source": [
    "# Top10 Genre in Movies and TV Shows:"
   ]
  },
  {
   "cell_type": "code",
   "execution_count": 29,
   "id": "7e34b7f8",
   "metadata": {},
   "outputs": [
    {
     "data": {
      "image/png": "[encoded data removed]",
      "text/plain": [
       "<Figure size 1800x720 with 1 Axes>"
      ]
     },
     "metadata": {},
     "output_type": "display_data"
    }
   ],
   "source": [
    "\n",
    "plt.figure(figsize=(25,10))\n",
    "sns.barplot(x = df[\"genres\"].value_counts().head(10).index,\n",
    "            y = df[\"genres\"].value_counts().head(10).values,palette=\"pink\")\n",
    "plt.title(\"Top10 Genre in Movies\",fontweight=\"bold\",fontsize=30)\n",
    "plt.xlabel(\"Genre\",fontsize=25)\n",
    "plt.ylabel(\"Count\",fontsize=25)\n",
    "plt.show()"
   ]
  },
  {
   "cell_type": "markdown",
   "id": "dbf7b54f",
   "metadata": {},
   "source": [
    "Top 4 genres are as follows for Movies:Comedies,Documentation,drama and comedy-drama\n",
    "\n",
    "Comedy genre has 700 contents is High"
   ]
  },
  {
   "cell_type": "markdown",
   "id": "cdcce5fc",
   "metadata": {},
   "source": [
    "# Analysis on duration of movies"
   ]
  },
  {
   "cell_type": "code",
   "execution_count": 30,
   "id": "f26a5baa",
   "metadata": {},
   "outputs": [
    {
     "data": {
      "text/plain": [
       "Text(0, 0.5, 'Density')"
      ]
     },
     "execution_count": 30,
     "metadata": {},
     "output_type": "execute_result"
    },
    {
     "data": {
      "image/png": "[encoded data removed]",
      "text/plain": [
       "<Figure size 1080x576 with 1 Axes>"
      ]
     },
     "metadata": {},
     "output_type": "display_data"
    }
   ],
   "source": [
    "\n",
    "plt.figure(figsize=(15,8))\n",
    "sns.set(style=\"darkgrid\")\n",
    "sns.kdeplot(data=df['runtime'], shade=True)\n",
    "plt.xlabel(\"Runtime\",fontsize=20)\n",
    "plt.ylabel(\"Density\",fontsize=20)"
   ]
  },
  {
   "cell_type": "markdown",
   "id": "e9cbaba7",
   "metadata": {},
   "source": [
    "So, a good amount of movies on Netflix are among the duration of 75-120 mins.\n",
    "\n",
    "The average duration of watching on netflix is 30-60 minutes\n",
    "\n",
    "It is acceptable considering the fact that a fair amount of the audience cannot watch a 3 hour movie in one sitting."
   ]
  },
  {
   "cell_type": "markdown",
   "id": "2f86d002",
   "metadata": {},
   "source": [
    "# Average of shows and movies release year (1940-2020)"
   ]
  },
  {
   "cell_type": "code",
   "execution_count": 31,
   "id": "c540bc77",
   "metadata": {},
   "outputs": [],
   "source": [
    "release_year_count=df['release_year'].value_counts()\n",
    "release_year_count=pd.DataFrame(release_year_count)"
   ]
  },
  {
   "cell_type": "code",
   "execution_count": 32,
   "id": "3f68a4d7",
   "metadata": {},
   "outputs": [
    {
     "data": {
      "image/png": "[encoded data removed]",
      "text/plain": [
       "<Figure size 1080x720 with 1 Axes>"
      ]
     },
     "metadata": {},
     "output_type": "display_data"
    }
   ],
   "source": [
    "plt.figure(figsize=(15, 10))\n",
    "sns.lineplot(data=release_year_count)\n",
    "plt.title('Netflix´s shows and movies release date (1940-2020)')\n",
    "plt.xlim(1940, 2021)\n",
    "plt.xlabel('Year released',fontsize=20)\n",
    "plt.ylabel('Total Shows on Netflix',fontsize=20)\n",
    "plt.show()"
   ]
  },
  {
   "cell_type": "markdown",
   "id": "f39e6d72",
   "metadata": {},
   "source": [
    "As u can release of show and movies increasing rapidly \n",
    "\n",
    "After year 2000 netflix start growing continously \n",
    "\n",
    "And increasing number of customers"
   ]
  },
  {
   "cell_type": "markdown",
   "id": "014159ba",
   "metadata": {},
   "source": [
    "# Find 10 films with highest IMDB score."
   ]
  },
  {
   "cell_type": "code",
   "execution_count": 33,
   "id": "214c3252",
   "metadata": {
    "scrolled": true
   },
   "outputs": [
    {
     "data": {
      "text/html": [
       "<div>\n",
       "<style scoped>\n",
       "    .dataframe tbody tr th:only-of-type {\n",
       "        vertical-align: middle;\n",
       "    }\n",
       "\n",
       "    .dataframe tbody tr th {\n",
       "        vertical-align: top;\n",
       "    }\n",
       "\n",
       "    .dataframe thead th {\n",
       "        text-align: right;\n",
       "    }\n",
       "</style>\n",
       "<table border=\"1\" class=\"dataframe\">\n",
       "  <thead>\n",
       "    <tr style=\"text-align: right;\">\n",
       "      <th></th>\n",
       "      <th>id</th>\n",
       "      <th>title</th>\n",
       "      <th>type</th>\n",
       "      <th>description</th>\n",
       "      <th>release_year</th>\n",
       "      <th>age_certification</th>\n",
       "      <th>runtime</th>\n",
       "      <th>genres</th>\n",
       "      <th>production_countries</th>\n",
       "      <th>seasons</th>\n",
       "      <th>imdb_id</th>\n",
       "      <th>imdb_score</th>\n",
       "      <th>imdb_votes</th>\n",
       "      <th>tmdb_popularity</th>\n",
       "      <th>tmdb_score</th>\n",
       "    </tr>\n",
       "  </thead>\n",
       "  <tbody>\n",
       "    <tr>\n",
       "      <th>0</th>\n",
       "      <td>ts265844</td>\n",
       "      <td>#ABtalks</td>\n",
       "      <td>SHOW</td>\n",
       "      <td>#ABtalks is a YouTube interview show hosted by...</td>\n",
       "      <td>2018</td>\n",
       "      <td>TV-PG</td>\n",
       "      <td>68</td>\n",
       "      <td>[]</td>\n",
       "      <td>[]</td>\n",
       "      <td>1.0</td>\n",
       "      <td>tt12635254</td>\n",
       "      <td>9.6</td>\n",
       "      <td>7.0</td>\n",
       "      <td>NaN</td>\n",
       "      <td>6.829175</td>\n",
       "    </tr>\n",
       "    <tr>\n",
       "      <th>1</th>\n",
       "      <td>ts4</td>\n",
       "      <td>Breaking Bad</td>\n",
       "      <td>SHOW</td>\n",
       "      <td>When Walter White, a New Mexico chemistry teac...</td>\n",
       "      <td>2008</td>\n",
       "      <td>TV-MA</td>\n",
       "      <td>48</td>\n",
       "      <td>['drama', 'crime', 'thriller']</td>\n",
       "      <td>['US']</td>\n",
       "      <td>5.0</td>\n",
       "      <td>tt0903747</td>\n",
       "      <td>9.5</td>\n",
       "      <td>1775990.0</td>\n",
       "      <td>353.848</td>\n",
       "      <td>8.790000</td>\n",
       "    </tr>\n",
       "    <tr>\n",
       "      <th>2</th>\n",
       "      <td>ts160526</td>\n",
       "      <td>Khawatir</td>\n",
       "      <td>SHOW</td>\n",
       "      <td>A TV show devoted to help young people to be m...</td>\n",
       "      <td>2005</td>\n",
       "      <td>TV-14</td>\n",
       "      <td>19</td>\n",
       "      <td>['reality']</td>\n",
       "      <td>[]</td>\n",
       "      <td>11.0</td>\n",
       "      <td>tt3062514</td>\n",
       "      <td>9.5</td>\n",
       "      <td>3115.0</td>\n",
       "      <td>NaN</td>\n",
       "      <td>6.829175</td>\n",
       "    </tr>\n",
       "    <tr>\n",
       "      <th>3</th>\n",
       "      <td>ts3371</td>\n",
       "      <td>Avatar: The Last Airbender</td>\n",
       "      <td>SHOW</td>\n",
       "      <td>In a war-torn world of elemental magic, a youn...</td>\n",
       "      <td>2005</td>\n",
       "      <td>TV-Y7</td>\n",
       "      <td>24</td>\n",
       "      <td>['scifi', 'animation', 'action', 'family', 'fa...</td>\n",
       "      <td>['US']</td>\n",
       "      <td>3.0</td>\n",
       "      <td>tt0417299</td>\n",
       "      <td>9.3</td>\n",
       "      <td>303666.0</td>\n",
       "      <td>56.915</td>\n",
       "      <td>8.700000</td>\n",
       "    </tr>\n",
       "  </tbody>\n",
       "</table>\n",
       "</div>"
      ],
      "text/plain": [
       "         id                       title  type  \\\n",
       "0  ts265844                    #ABtalks  SHOW   \n",
       "1       ts4                Breaking Bad  SHOW   \n",
       "2  ts160526                    Khawatir  SHOW   \n",
       "3    ts3371  Avatar: The Last Airbender  SHOW   \n",
       "\n",
       "                                         description  release_year  \\\n",
       "0  #ABtalks is a YouTube interview show hosted by...          2018   \n",
       "1  When Walter White, a New Mexico chemistry teac...          2008   \n",
       "2  A TV show devoted to help young people to be m...          2005   \n",
       "3  In a war-torn world of elemental magic, a youn...          2005   \n",
       "\n",
       "  age_certification  runtime  \\\n",
       "0             TV-PG       68   \n",
       "1             TV-MA       48   \n",
       "2             TV-14       19   \n",
       "3             TV-Y7       24   \n",
       "\n",
       "                                              genres production_countries  \\\n",
       "0                                                 []                   []   \n",
       "1                     ['drama', 'crime', 'thriller']               ['US']   \n",
       "2                                        ['reality']                   []   \n",
       "3  ['scifi', 'animation', 'action', 'family', 'fa...               ['US']   \n",
       "\n",
       "   seasons     imdb_id  imdb_score  imdb_votes  tmdb_popularity  tmdb_score  \n",
       "0      1.0  tt12635254         9.6         7.0              NaN    6.829175  \n",
       "1      5.0   tt0903747         9.5   1775990.0          353.848    8.790000  \n",
       "2     11.0   tt3062514         9.5      3115.0              NaN    6.829175  \n",
       "3      3.0   tt0417299         9.3    303666.0           56.915    8.700000  "
      ]
     },
     "execution_count": 33,
     "metadata": {},
     "output_type": "execute_result"
    }
   ],
   "source": [
    "sorted_films = df.sort_values(by=\"imdb_score\", ascending=False, ignore_index=True).head(4)\n",
    "sorted_films"
   ]
  },
  {
   "cell_type": "code",
   "execution_count": 34,
   "id": "8fadd0fc",
   "metadata": {},
   "outputs": [
    {
     "data": {
      "image/png": "[encoded data removed]",
      "text/plain": [
       "<Figure size 1440x288 with 1 Axes>"
      ]
     },
     "metadata": {},
     "output_type": "display_data"
    }
   ],
   "source": [
    "sorted_films= df.sort_values(by = ['imdb_score'], ascending = False, ignore_index=True).head(10)\n",
    "sorted_films \n",
    "\n",
    "fig1, ax1 = plt.subplots()\n",
    "ax1.bar(sorted_films ['title'],sorted_films ['imdb_score'], width = 0.3, color = 'black')\n",
    "fig1.set_figwidth(20,40)\n",
    "\n",
    "plt.show()"
   ]
  },
  {
   "cell_type": "markdown",
   "id": "8c8ee2fa",
   "metadata": {},
   "source": [
    "Highest IMBD score belongs to TV shows , ABtalks has highest rating show  , it's interview show\n",
    "\n",
    "Breaking bad has imdb score of 9.5 and best series ever including Drama,crime and thrill\n",
    "\n",
    "As khawatir is the reality show imdb score 9.5"
   ]
  },
  {
   "cell_type": "markdown",
   "id": "ad062143",
   "metadata": {},
   "source": [
    "# List 10 movies with longest 'Runtime' and visualize."
   ]
  },
  {
   "cell_type": "code",
   "execution_count": 35,
   "id": "51253840",
   "metadata": {
    "scrolled": true
   },
   "outputs": [
    {
     "data": {
      "image/png": "[encoded data removed]",
      "text/plain": [
       "<Figure size 1440x288 with 1 Axes>"
      ]
     },
     "metadata": {},
     "output_type": "display_data"
    }
   ],
   "source": [
    "top_data_runtime = df.sort_values(by = ['runtime'], ascending = False, ignore_index=True).head(10)\n",
    "top_data_runtime\n",
    "\n",
    "fig1, ax1 = plt.subplots()\n",
    "ax1.bar(top_data_runtime['title'],top_data_runtime['runtime'], width = 0.2, color = 'blue')\n",
    "fig1.set_figwidth(20)\n",
    "\n",
    "plt.show()"
   ]
  },
  {
   "cell_type": "markdown",
   "id": "43157459",
   "metadata": {},
   "source": [
    "\n",
    "Longest Runtime is for Movie\n",
    "\n",
    "The movie visualize for 240 min\n",
    "\n",
    "Name of long time movie is Bonnie & clyde"
   ]
  },
  {
   "cell_type": "markdown",
   "id": "5812f9ac",
   "metadata": {},
   "source": [
    "# Which movies have the lowest IMDB scores ? Visualize."
   ]
  },
  {
   "cell_type": "code",
   "execution_count": 36,
   "id": "c16d9411",
   "metadata": {
    "scrolled": true
   },
   "outputs": [
    {
     "data": {
      "text/html": [
       "<div>\n",
       "<style scoped>\n",
       "    .dataframe tbody tr th:only-of-type {\n",
       "        vertical-align: middle;\n",
       "    }\n",
       "\n",
       "    .dataframe tbody tr th {\n",
       "        vertical-align: top;\n",
       "    }\n",
       "\n",
       "    .dataframe thead th {\n",
       "        text-align: right;\n",
       "    }\n",
       "</style>\n",
       "<table border=\"1\" class=\"dataframe\">\n",
       "  <thead>\n",
       "    <tr style=\"text-align: right;\">\n",
       "      <th></th>\n",
       "      <th>id</th>\n",
       "      <th>title</th>\n",
       "      <th>type</th>\n",
       "      <th>description</th>\n",
       "      <th>release_year</th>\n",
       "      <th>age_certification</th>\n",
       "      <th>runtime</th>\n",
       "      <th>genres</th>\n",
       "      <th>production_countries</th>\n",
       "      <th>seasons</th>\n",
       "      <th>imdb_id</th>\n",
       "      <th>imdb_score</th>\n",
       "      <th>imdb_votes</th>\n",
       "      <th>tmdb_popularity</th>\n",
       "      <th>tmdb_score</th>\n",
       "    </tr>\n",
       "  </thead>\n",
       "  <tbody>\n",
       "    <tr>\n",
       "      <th>0</th>\n",
       "      <td>tm549892</td>\n",
       "      <td>Aerials</td>\n",
       "      <td>MOVIE</td>\n",
       "      <td>Earth is invaded by Aliens from outer space. A...</td>\n",
       "      <td>2016</td>\n",
       "      <td>TV-MA</td>\n",
       "      <td>90</td>\n",
       "      <td>['thriller', 'drama', 'scifi']</td>\n",
       "      <td>['AE']</td>\n",
       "      <td>1.0</td>\n",
       "      <td>tt5314138</td>\n",
       "      <td>1.5</td>\n",
       "      <td>388.0</td>\n",
       "      <td>1.810</td>\n",
       "      <td>6.829175</td>\n",
       "    </tr>\n",
       "    <tr>\n",
       "      <th>1</th>\n",
       "      <td>tm839411</td>\n",
       "      <td>Me Against You: Mr. S's Vendetta</td>\n",
       "      <td>MOVIE</td>\n",
       "      <td>A young couple who makes popular YouTube video...</td>\n",
       "      <td>2020</td>\n",
       "      <td>TV-MA</td>\n",
       "      <td>64</td>\n",
       "      <td>['comedy', 'family', 'european']</td>\n",
       "      <td>['IT']</td>\n",
       "      <td>1.0</td>\n",
       "      <td>tt11559652</td>\n",
       "      <td>1.6</td>\n",
       "      <td>370.0</td>\n",
       "      <td>8.374</td>\n",
       "      <td>8.200000</td>\n",
       "    </tr>\n",
       "    <tr>\n",
       "      <th>2</th>\n",
       "      <td>tm171891</td>\n",
       "      <td>Himmatwala</td>\n",
       "      <td>MOVIE</td>\n",
       "      <td>When a temple priest commits suicide after bei...</td>\n",
       "      <td>2013</td>\n",
       "      <td>TV-MA</td>\n",
       "      <td>150</td>\n",
       "      <td>['comedy', 'drama', 'action']</td>\n",
       "      <td>['IN']</td>\n",
       "      <td>1.0</td>\n",
       "      <td>tt2344678</td>\n",
       "      <td>1.7</td>\n",
       "      <td>8648.0</td>\n",
       "      <td>0.600</td>\n",
       "      <td>3.300000</td>\n",
       "    </tr>\n",
       "    <tr>\n",
       "      <th>3</th>\n",
       "      <td>tm232930</td>\n",
       "      <td>Kyaa Kool Hain Hum 3</td>\n",
       "      <td>MOVIE</td>\n",
       "      <td>In order to impress his girlfriend's conservat...</td>\n",
       "      <td>2016</td>\n",
       "      <td>TV-MA</td>\n",
       "      <td>124</td>\n",
       "      <td>['comedy']</td>\n",
       "      <td>['IN']</td>\n",
       "      <td>1.0</td>\n",
       "      <td>tt5290620</td>\n",
       "      <td>1.9</td>\n",
       "      <td>4356.0</td>\n",
       "      <td>4.658</td>\n",
       "      <td>3.100000</td>\n",
       "    </tr>\n",
       "  </tbody>\n",
       "</table>\n",
       "</div>"
      ],
      "text/plain": [
       "         id                             title   type  \\\n",
       "0  tm549892                           Aerials  MOVIE   \n",
       "1  tm839411  Me Against You: Mr. S's Vendetta  MOVIE   \n",
       "2  tm171891                        Himmatwala  MOVIE   \n",
       "3  tm232930              Kyaa Kool Hain Hum 3  MOVIE   \n",
       "\n",
       "                                         description  release_year  \\\n",
       "0  Earth is invaded by Aliens from outer space. A...          2016   \n",
       "1  A young couple who makes popular YouTube video...          2020   \n",
       "2  When a temple priest commits suicide after bei...          2013   \n",
       "3  In order to impress his girlfriend's conservat...          2016   \n",
       "\n",
       "  age_certification  runtime                            genres  \\\n",
       "0             TV-MA       90    ['thriller', 'drama', 'scifi']   \n",
       "1             TV-MA       64  ['comedy', 'family', 'european']   \n",
       "2             TV-MA      150     ['comedy', 'drama', 'action']   \n",
       "3             TV-MA      124                        ['comedy']   \n",
       "\n",
       "  production_countries  seasons     imdb_id  imdb_score  imdb_votes  \\\n",
       "0               ['AE']      1.0   tt5314138         1.5       388.0   \n",
       "1               ['IT']      1.0  tt11559652         1.6       370.0   \n",
       "2               ['IN']      1.0   tt2344678         1.7      8648.0   \n",
       "3               ['IN']      1.0   tt5290620         1.9      4356.0   \n",
       "\n",
       "   tmdb_popularity  tmdb_score  \n",
       "0            1.810    6.829175  \n",
       "1            8.374    8.200000  \n",
       "2            0.600    3.300000  \n",
       "3            4.658    3.100000  "
      ]
     },
     "execution_count": 36,
     "metadata": {},
     "output_type": "execute_result"
    }
   ],
   "source": [
    "\n",
    "low_imdb=df.sort_values(by = ['imdb_score'], ascending =True, ignore_index=True).head(4)\n",
    "\n",
    "low_imdb"
   ]
  },
  {
   "cell_type": "code",
   "execution_count": 37,
   "id": "6fc79016",
   "metadata": {},
   "outputs": [
    {
     "data": {
      "image/png": "[encoded data removed]",
      "text/plain": [
       "<Figure size 1800x288 with 1 Axes>"
      ]
     },
     "metadata": {},
     "output_type": "display_data"
    }
   ],
   "source": [
    "low_imdb= df.sort_values(by = ['imdb_score'], ascending =True, ignore_index=True).head(10)\n",
    "low_imdb \n",
    "\n",
    "fig1, ax1 = plt.subplots()\n",
    "ax1.bar(low_imdb['title'],low_imdb['imdb_score'], width = 0.3, color = 'black')\n",
    "fig1.set_figwidth(25)\n",
    "\n",
    "plt.show()"
   ]
  },
  {
   "cell_type": "markdown",
   "id": "0a325efd",
   "metadata": {},
   "source": [
    "Obervation :-\n",
    "\n",
    "Lowest IMBD score belongs to Movie , Aerials has lowest rating show .\n",
    "\n",
    "Me Against You: Mr. S's Vendetta has imdb score of 1.6 and including comedy ,family"
   ]
  },
  {
   "cell_type": "markdown",
   "id": "5dcd1388",
   "metadata": {},
   "source": [
    "## Insight"
   ]
  },
  {
   "cell_type": "markdown",
   "id": "de5faf85",
   "metadata": {},
   "source": [
    "\n",
    "- United States, India and the United Kingdom are the top three countries in producing movies and shows. However, a very large part of movies come alone from US and India alone.\n",
    "\n",
    "- The movie visualize for 240 min was longest\n",
    "\n",
    "- There are very fewer movies released on Netflix from the year 2008 to the year 2015. After 2016 a large number of movies/shows got released on the platform.\n",
    "\n",
    "- The visualization shows in the year 2019 most movies/shows were released on Netflix. However, the rate dropped after 2019 that is in 2020 and 2021.\n",
    "\n",
    "- Most movies have TV-MA. TV-14! R... rating. Less than 200 movies/shows have G rating.\n",
    "\n",
    "- There are 42 Genres in total which include Dramas, Independent movies, Comedies, and Romantic Movies are most famous."
   ]
  },
  {
   "cell_type": "code",
   "execution_count": null,
   "id": "421d3f42",
   "metadata": {},
   "outputs": [],
   "source": []
  },
  {
   "cell_type": "code",
   "execution_count": null,
   "id": "64e6c1e6",
   "metadata": {},
   "outputs": [],
   "source": []
  },
  {
   "cell_type": "code",
   "execution_count": null,
   "id": "decd982c",
   "metadata": {},
   "outputs": [],
   "source": []
  },
  {
   "cell_type": "code",
   "execution_count": null,
   "id": "3e5c9019",
   "metadata": {},
   "outputs": [],
   "source": []
  },
  {
   "cell_type": "code",
   "execution_count": null,
   "id": "c2693151",
   "metadata": {},
   "outputs": [],
   "source": []
  }
 ],
 "metadata": {
  "kernelspec": {
   "display_name": "Python 3",
   "language": "python",
   "name": "python3"
  },
  "language_info": {
   "codemirror_mode": {
    "name": "ipython",
    "version": 3
   },
   "file_extension": ".py",
   "mimetype": "text/x-python",
   "name": "python",
   "nbconvert_exporter": "python",
   "pygments_lexer": "ipython3",
   "version": "3.8.8"
  }
 },
 "nbformat": 4,
 "nbformat_minor": 5
}
